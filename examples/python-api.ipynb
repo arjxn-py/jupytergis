{
 "cells": [
  {
   "cell_type": "code",
   "execution_count": null,
   "id": "51027580-28f6-4945-8bd0-63fbd77d61d9",
   "metadata": {},
   "outputs": [],
   "source": [
    "from jupytergis import GISDocument"
   ]
  },
  {
   "cell_type": "code",
   "execution_count": null,
   "id": "ac4dceba-c315-43ee-a358-d8ccf8942c31",
   "metadata": {},
   "outputs": [],
   "source": [
    "doc = GISDocument(\"untitled4.jGIS\")"
   ]
  },
  {
   "cell_type": "code",
   "execution_count": null,
   "id": "d25285cf-fc9c-453f-9ac7-5f8857ad1e65",
   "metadata": {},
   "outputs": [],
   "source": [
    "# doc.add_geojson_layer('france_regions.geojson')"
   ]
  },
  {
   "cell_type": "code",
   "execution_count": null,
   "id": "ae21ac0e-f307-4b23-84c2-b2ce32836c71",
   "metadata": {},
   "outputs": [],
   "source": [
    "# doc.add_geojson_layer2('france_regions.geojson')"
   ]
  },
  {
   "cell_type": "code",
   "execution_count": null,
   "id": "6f8a675a-b9d3-4ea1-95f9-de4a8d6ed48f",
   "metadata": {},
   "outputs": [],
   "source": [
    "doc.layers"
   ]
  },
  {
   "cell_type": "code",
   "execution_count": null,
   "id": "48b2d0cc-89b2-496a-9926-63fd4c2993cc",
   "metadata": {},
   "outputs": [],
   "source": [
    "layer = doc.add_geojson_layer2(\"france_regions.geojson\")\n",
    "layer.hello()"
   ]
  },
  {
   "cell_type": "code",
   "execution_count": null,
   "id": "03e71af2-9698-400c-8607-36862946a07e",
   "metadata": {},
   "outputs": [],
   "source": [
    "from pprint import pprint\n",
    "\n",
    "# If you want the raw dict form of the base layer\n",
    "pprint(layer._base_layer.dict())  # Pydantic's dict method\n",
    "layer._base_layer.visible = True"
   ]
  },
  {
   "cell_type": "code",
   "execution_count": null,
   "id": "13354ec0-a729-42ed-a84a-c0d71dc143ef",
   "metadata": {},
   "outputs": [],
   "source": [
    "layer"
   ]
  },
  {
   "cell_type": "code",
   "execution_count": null,
   "id": "18909f1e-3aff-4d3d-8f68-647d89b359c7",
   "metadata": {},
   "outputs": [],
   "source": [
    "doc._add_layer(layer)"
   ]
  },
  {
   "cell_type": "code",
   "execution_count": null,
   "id": "e834c820-d097-48d4-9a38-267b21b7311e",
   "metadata": {},
   "outputs": [],
   "source": [
    "# dir(layer)"
   ]
  },
  {
   "cell_type": "code",
   "execution_count": null,
   "id": "362162f1-2770-4143-a1d5-c0eb090a071f",
   "metadata": {},
   "outputs": [],
   "source": [
    "layer.show_layer()"
   ]
  },
  {
   "cell_type": "code",
   "execution_count": null,
   "id": "7c9ee9f6-1a95-4129-97fc-ca3c62af019f",
   "metadata": {},
   "outputs": [],
   "source": [
    "geojson_data = doc.get_source(layer.parameters.source)"
   ]
  },
  {
   "cell_type": "code",
   "execution_count": null,
   "id": "9957b705-6c51-4297-8bba-ae09133bf6ba",
   "metadata": {},
   "outputs": [],
   "source": [
    "# %pip install geopandas"
   ]
  },
  {
   "cell_type": "code",
   "execution_count": null,
   "id": "dd175905-741a-4e20-b9f7-0f928df5a0a6",
   "metadata": {},
   "outputs": [],
   "source": [
    "import geopandas as gpd"
   ]
  },
  {
   "cell_type": "code",
   "execution_count": null,
   "id": "6fa4ab5d-ed02-4502-a8ad-a4331a0450f3",
   "metadata": {},
   "outputs": [],
   "source": [
    "geojson_data = geojson_data[\"parameters\"][\"data\"]"
   ]
  },
  {
   "cell_type": "code",
   "execution_count": null,
   "id": "cdb83889-0e22-4e70-89ef-c5ee49096267",
   "metadata": {},
   "outputs": [],
   "source": [
    "type(geojson_data)"
   ]
  },
  {
   "cell_type": "code",
   "execution_count": null,
   "id": "7cd9ab8f-e135-4255-9c39-b9a8e2689c12",
   "metadata": {},
   "outputs": [],
   "source": [
    "from shapely.geometry import shape"
   ]
  },
  {
   "cell_type": "code",
   "execution_count": null,
   "id": "0e764dc1-5862-4402-8c36-729b7ff804d8",
   "metadata": {},
   "outputs": [],
   "source": [
    "data = []\n",
    "geometry = []\n",
    "for feature in geojson_data[\"features\"]:\n",
    "    data.append(feature[\"properties\"])\n",
    "    geometry.append(shape(feature[\"geometry\"]))\n",
    "\n",
    "# Create GeoDataFrame\n",
    "gdf_from_dict = gpd.GeoDataFrame(data, geometry=geometry, crs=\"EPSG:4326\")"
   ]
  },
  {
   "cell_type": "code",
   "execution_count": null,
   "id": "ed8ed4d3-52f7-4114-ab35-5bd36e4de323",
   "metadata": {},
   "outputs": [],
   "source": [
    "gdf = gdf_from_dict.iloc[:3]\n",
    "gdf"
   ]
  },
  {
   "cell_type": "code",
   "execution_count": null,
   "id": "10db8be8-933b-47b2-8e71-5c4dc1c8a0a7",
   "metadata": {},
   "outputs": [],
   "source": [
    "gdf.to_json()"
   ]
  }
 ],
 "metadata": {
  "kernelspec": {
   "display_name": "Python 3 (ipykernel)",
   "language": "python",
   "name": "python3"
  },
  "language_info": {
   "codemirror_mode": {
    "name": "ipython",
    "version": 3
   },
   "file_extension": ".py",
   "mimetype": "text/x-python",
   "name": "python",
   "nbconvert_exporter": "python",
   "pygments_lexer": "ipython3",
   "version": "3.13.5"
  }
 },
 "nbformat": 4,
 "nbformat_minor": 5
}
